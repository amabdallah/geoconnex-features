{
 "cells": [
  {
   "cell_type": "markdown",
   "metadata": {},
   "source": [
    "## Translate Wyoming stream gage data into Geoconnex\n"
   ]
  },
  {
   "cell_type": "markdown",
   "metadata": {},
   "source": [
    "Station data came from Brent via email:\n",
    "\n",
    "Here is a list of the locations in seoflow.wyo.gov with the name, ID, Lat and Long.  Both surface water and groundwater locations are included.\n",
    "It is an Excel 2022 spreadsheet.  Can't do CSV as some of the names have commas. \n",
    "Brent\n",
    "brent.wickham@wyo.gov\n",
    "**Note: Shell Creek above Lake DeSmet in the spreadsheet incorrectly had a positive latitude, and there's no data for it, so it was removed in a block at the end.\n",
    "\n",
    "Other data comes from: https://seoflow.wyo.gov/Data/Map/Parameter/Discharge/Statistic/LATEST/Interval/Latest and was exported as a csv. \n"
   ]
  },
  {
   "cell_type": "code",
   "execution_count": 28,
   "metadata": {},
   "outputs": [
    {
     "name": "stdout",
     "output_type": "stream",
     "text": [
      "Fields in the layer after addition: ['OBJECTID', 'Shape', 'LocationName', 'Identifier', 'Latitude', 'Longitude', 'uri', 'location_url', 'name', 'id', 'provider_name', 'provider_id', 'provider_url', 'provider_code', 'mainstem_uri', 'comid']\n"
     ]
    }
   ],
   "source": [
    "import arcpy\n",
    "\n",
    "# Set the workspace environment\n",
    "arcpy.env.workspace = r\"C:\\Users\\ewiggans\\Desktop\\GeoconnexNPDES\\GeoconnexNPDES\\GeoconnexNPDES.gdb\"\n",
    "\n",
    "# Define the input layer\n",
    "WY_gage = \"WyomingStreamGages\"\n",
    "\n",
    "# Define a list of field names and their types\n",
    "field_list = [\n",
    "    (\"uri\", \"TEXT\"),\n",
    "    (\"location_url\", \"TEXT\"),\n",
    "    (\"name\", \"TEXT\"),\n",
    "    (\"id\", \"TEXT\"),\n",
    "    (\"provider_name\", \"TEXT\"),\n",
    "    (\"provider_id\", \"TEXT\"),\n",
    "    (\"provider_url\", \"TEXT\"),\n",
    "    (\"provider_code\", \"TEXT\"),\n",
    "    (\"mainstem_uri\", \"TEXT\"),\n",
    "    (\"comid\", \"TEXT\")\n",
    "]\n",
    "\n",
    "# Add the new fields using a loop\n",
    "for field_name, field_type in field_list:\n",
    "    arcpy.AddField_management(WY_gage, field_name, field_type)\n",
    "\n",
    "# Create an update cursor to delete rows with NULL 'latitude' or 'longitude'\n",
    "with arcpy.da.UpdateCursor(WY_gage, ['latitude', 'longitude']) as cursor:\n",
    "    for row in cursor:\n",
    "        latitude, longitude = row\n",
    "        if latitude is None or longitude is None:\n",
    "            cursor.deleteRow()\n",
    "\n",
    "# Confirm the field addition\n",
    "field_names = [field.name for field in arcpy.ListFields(WY_gage)]\n",
    "print(\"Fields in the layer after addition:\", field_names)\n",
    "\n",
    "\n",
    "\n"
   ]
  },
  {
   "cell_type": "code",
   "execution_count": 29,
   "metadata": {},
   "outputs": [
    {
     "name": "stdout",
     "output_type": "stream",
     "text": [
      "All values in the 'Identifier' field are unique.\n",
      "There were spaces in the 'Identifier' field. They have been replaced with '-'.\n"
     ]
    }
   ],
   "source": [
    "# Confirm unique ID in identifier field\n",
    "# Field to check for uniqueness\n",
    "field_name = \"Identifier\"\n",
    "\n",
    "# Use a set to keep track of unique values encountered in the field\n",
    "unique_values = set()\n",
    "\n",
    "# Initialize a counter to keep track of the total number of rows\n",
    "total_rows = 0\n",
    "\n",
    "# Initialize a flag to check for spaces\n",
    "has_spaces = False\n",
    "\n",
    "# Start a search cursor to iterate through the rows and check for unique values and spaces\n",
    "with arcpy.da.UpdateCursor(WY_gage, field_name) as cursor:\n",
    "    for row in cursor:\n",
    "        total_rows += 1\n",
    "        value = row[0]\n",
    "        if value in unique_values:\n",
    "            print(f\"Non-unique value found: {value}\")\n",
    "        else:\n",
    "            unique_values.add(value)\n",
    "\n",
    "        if \" \" in value:\n",
    "            has_spaces = True\n",
    "            # Replace spaces with \"-\"\n",
    "            row[0] = value.replace(\" \", \"-\")\n",
    "            cursor.updateRow(row)\n",
    "\n",
    "# Check if the number of unique values is the same as the total number of rows\n",
    "if len(unique_values) == total_rows:\n",
    "    print(\"All values in the 'Identifier' field are unique.\")\n",
    "else:\n",
    "    print(\"There are duplicate values in the 'Identifier' field.\")\n",
    "\n",
    "# Check if there are any spaces in the 'Identifier' field\n",
    "if has_spaces:\n",
    "    print(\"There were spaces in the 'Identifier' field. They have been replaced with '-'.\")\n",
    "else:\n",
    "    print(\"No spaces found in the 'Identifier' field.\")\n"
   ]
  },
  {
   "cell_type": "code",
   "execution_count": 46,
   "metadata": {},
   "outputs": [
    {
     "data": {
      "text/html": [
       "<div class='gpresult'><h2>Messages</h2><div id='messages' data-messages='[\"Start Time: Thursday, October 26, 2023 2:09:18 PM\",\"Succeeded at Thursday, October 26, 2023 2:09:18 PM (Elapsed Time: 0.15 seconds)\"]' data-show='true'><div id = 'default' /></div></div>"
      ],
      "text/plain": [
       "<Result 'WyomingStreamGages'>"
      ]
     },
     "execution_count": 46,
     "metadata": {},
     "output_type": "execute_result"
    }
   ],
   "source": [
    "\n",
    "#set Identifier field to id and name\n",
    "#fields to update\n",
    "id_field = \"id\"\n",
    "name_field = \"name\"\n",
    "field_name = \"Identifier\"\n",
    "\n",
    "# Calculate the 'id' field and 'name' field using the 'Identifier' field\n",
    "expression = \"!\" + field_name + \"!\"\n",
    "codeblock = \"\"\n",
    "\n",
    "# Use the CalculateField tool to perform the field calculation\n",
    "arcpy.CalculateField_management(WY_gage, id_field, expression, \"PYTHON3\", codeblock)\n",
    "arcpy.CalculateField_management(WY_gage, name_field, expression, \"PYTHON3\", codeblock)\n",
    "\n",
    "#print(\"Updated 'id' and 'name' fields with values from the 'Identifier' field.\")\n",
    "\n",
    "arcpy.CalculateField_management(WY_gage, \"provider_name\", \"'Wyoming State Engineers Office'\")\n",
    "arcpy.CalculateField_management(WY_gage, \"provider_url\", \"'https://seo.wyo.gov/'\")\n",
    "arcpy.CalculateField_management(WY_gage, \"provider_id\", \"!\" + field_name +\"!\")\n",
    "arcpy.CalculateField_management(WY_gage, \"provider_code\", \"'wyseo'\")\n"
   ]
  },
  {
   "cell_type": "code",
   "execution_count": 47,
   "metadata": {},
   "outputs": [
    {
     "name": "stdout",
     "output_type": "stream",
     "text": [
      "uri calculated\n"
     ]
    }
   ],
   "source": [
    "#Calculate URI \n",
    "codeblock = \"\"\"\n",
    "def url_join(*parts: list) -> str:\n",
    "    return '/'.join([str(p).strip().strip('/') for p in parts])\n",
    "\"\"\"\n",
    "## pattern for uri is: geoconnex.us/iow/wyseo/gages/id\n",
    "\n",
    "expression = \"\"\"url_join(\"https://geoconnex.us/wyseo/gages\", !id!)\"\"\"\n",
    "arcpy.management.CalculateField(WY_gage, \"uri\", expression, \"PYTHON3\", codeblock)\n",
    "print(\"uri calculated\")\n",
    "\n"
   ]
  },
  {
   "cell_type": "code",
   "execution_count": 48,
   "metadata": {},
   "outputs": [],
   "source": [
    "##Read in the download table"
   ]
  },
  {
   "cell_type": "code",
   "execution_count": 49,
   "metadata": {},
   "outputs": [
    {
     "name": "stdout",
     "output_type": "stream",
     "text": [
      "                               Data_Set_Id  ... Status\n",
      "0  Discharge.Historical.Discharge@010266RS  ...      -\n",
      "1             Discharge.Discharge@010266RS  ...      -\n",
      "2         Discharge.Discharge.MDT@010266RS  ...      -\n",
      "3     Discharge.Discharge.MDT.MDQ@010266RS  ...      -\n",
      "4         Discharge.Discharge.MDT@0102BOUT  ...      -\n",
      "\n",
      "[5 rows x 7 columns]\n"
     ]
    }
   ],
   "source": [
    "import pandas as pd\n",
    "pd.set_option('display.width', 1000)\n",
    "\n",
    "# Path to the CSV file\n",
    "csv_file_path = r\"C:\\Users\\ewiggans\\Desktop\\GeoConnexMap\\WyomingGage\\List-20230801130904_WYgages.csv\"\n",
    "\n",
    "\n",
    "# Read the CSV file into a pandas DataFrame\n",
    "df = pd.read_csv(csv_file_path)\n",
    "\n",
    "# Display the first few rows of the data frame to verify the data\n",
    "print(df.head())\n"
   ]
  },
  {
   "cell_type": "code",
   "execution_count": 50,
   "metadata": {},
   "outputs": [
    {
     "data": {
      "text/plain": [
       "Index(['Data_Set_Id', 'Location', 'LocationFolder', 'StartofRecord', 'EndofRecord', 'Value', 'Status'], dtype='object')"
      ]
     },
     "execution_count": 50,
     "metadata": {},
     "output_type": "execute_result"
    }
   ],
   "source": [
    "#View column headers \n",
    "df.columns"
   ]
  },
  {
   "cell_type": "code",
   "execution_count": 51,
   "metadata": {},
   "outputs": [],
   "source": [
    "# Perform the field calculations on the pandas DataFrame\n",
    "df[\"location_id\"] = df[\"Data_Set_Id\"].str.replace(r\".*@\", \"\", regex=True)\n",
    "df[\"about_url\"] = \"https://geoconnex.us/wyseo/gages/\" + df[\"location_id\"]\n",
    "df[\"data_set_type\"] = df[\"Data_Set_Id\"].str.replace(r\"@.*\", \"\", regex=True)\n",
    "df[\"data_set_path\"] = df[\"data_set_type\"].str.replace(\".\", \"/\", 1)\n",
    "df[\"url\"] = \"https://seoflow.wyo.gov/Data/DataSet/Summary/Location/\" + df[\"location_id\"] + \"/DataSet/\" + df[\"data_set_path\"]\n",
    "df[\"provider_code\"] = \"wyseo\"\n",
    "df[\"parameter_name\"] = df[\"data_set_type\"]\n",
    "df[\"parameter_group\"] = \"discharge\"\n",
    "df[\"parameter_id\"] = df[\"provider_code\"] + \"-\" + df[\"parameter_group\"]\n",
    "df[\"about_uri\"] = df[\"about_url\"]\n",
    "df[\"name\"] = df[\"Data_Set_Id\"]\n",
    "\n"
   ]
  },
  {
   "cell_type": "code",
   "execution_count": 52,
   "metadata": {},
   "outputs": [
    {
     "data": {
      "text/html": [
       "<div>\n",
       "<style scoped>\n",
       "    .dataframe tbody tr th:only-of-type {\n",
       "        vertical-align: middle;\n",
       "    }\n",
       "\n",
       "    .dataframe tbody tr th {\n",
       "        vertical-align: top;\n",
       "    }\n",
       "\n",
       "    .dataframe thead th {\n",
       "        text-align: right;\n",
       "    }\n",
       "</style>\n",
       "<table border=\"1\" class=\"dataframe\">\n",
       "  <thead>\n",
       "    <tr style=\"text-align: right;\">\n",
       "      <th></th>\n",
       "      <th>Data_Set_Id</th>\n",
       "      <th>Location</th>\n",
       "      <th>LocationFolder</th>\n",
       "      <th>StartofRecord</th>\n",
       "      <th>EndofRecord</th>\n",
       "      <th>Value</th>\n",
       "      <th>Status</th>\n",
       "      <th>location_id</th>\n",
       "      <th>about_url</th>\n",
       "      <th>data_set_type</th>\n",
       "      <th>data_set_path</th>\n",
       "      <th>url</th>\n",
       "      <th>provider_code</th>\n",
       "      <th>parameter_name</th>\n",
       "      <th>parameter_group</th>\n",
       "      <th>parameter_id</th>\n",
       "      <th>about_uri</th>\n",
       "      <th>name</th>\n",
       "    </tr>\n",
       "  </thead>\n",
       "  <tbody>\n",
       "    <tr>\n",
       "      <th>0</th>\n",
       "      <td>Discharge.Historical.Discharge@010266RS</td>\n",
       "      <td>66 Reservoir Supply Ditch</td>\n",
       "      <td>All Locations.Division 1.District 02</td>\n",
       "      <td>10/1/2017 6:00</td>\n",
       "      <td>10/21/2020 18:00</td>\n",
       "      <td>NaN</td>\n",
       "      <td>-</td>\n",
       "      <td>010266RS</td>\n",
       "      <td>https://geoconnex.us/wyseo/gages/010266RS</td>\n",
       "      <td>Discharge.Historical.Discharge</td>\n",
       "      <td>Discharge/Historical.Discharge</td>\n",
       "      <td>https://seoflow.wyo.gov/Data/DataSet/Summary/Location/010266RS/DataSet/Discharge/Historical.Discharge</td>\n",
       "      <td>wyseo</td>\n",
       "      <td>Discharge.Historical.Discharge</td>\n",
       "      <td>discharge</td>\n",
       "      <td>wyseo-discharge</td>\n",
       "      <td>https://geoconnex.us/wyseo/gages/010266RS</td>\n",
       "      <td>Discharge.Historical.Discharge@010266RS</td>\n",
       "    </tr>\n",
       "    <tr>\n",
       "      <th>1</th>\n",
       "      <td>Discharge.Discharge@010266RS</td>\n",
       "      <td>66 Reservoir Supply Ditch</td>\n",
       "      <td>All Locations.Division 1.District 02</td>\n",
       "      <td>10/1/2017 6:00</td>\n",
       "      <td>6/2/2022 2:00</td>\n",
       "      <td>NaN</td>\n",
       "      <td>-</td>\n",
       "      <td>010266RS</td>\n",
       "      <td>https://geoconnex.us/wyseo/gages/010266RS</td>\n",
       "      <td>Discharge.Discharge</td>\n",
       "      <td>Discharge/Discharge</td>\n",
       "      <td>https://seoflow.wyo.gov/Data/DataSet/Summary/Location/010266RS/DataSet/Discharge/Discharge</td>\n",
       "      <td>wyseo</td>\n",
       "      <td>Discharge.Discharge</td>\n",
       "      <td>discharge</td>\n",
       "      <td>wyseo-discharge</td>\n",
       "      <td>https://geoconnex.us/wyseo/gages/010266RS</td>\n",
       "      <td>Discharge.Discharge@010266RS</td>\n",
       "    </tr>\n",
       "    <tr>\n",
       "      <th>2</th>\n",
       "      <td>Discharge.Discharge.MDT@010266RS</td>\n",
       "      <td>66 Reservoir Supply Ditch</td>\n",
       "      <td>All Locations.Division 1.District 02</td>\n",
       "      <td>10/1/2017 6:00</td>\n",
       "      <td>6/2/2022 2:00</td>\n",
       "      <td>NaN</td>\n",
       "      <td>-</td>\n",
       "      <td>010266RS</td>\n",
       "      <td>https://geoconnex.us/wyseo/gages/010266RS</td>\n",
       "      <td>Discharge.Discharge.MDT</td>\n",
       "      <td>Discharge/Discharge.MDT</td>\n",
       "      <td>https://seoflow.wyo.gov/Data/DataSet/Summary/Location/010266RS/DataSet/Discharge/Discharge.MDT</td>\n",
       "      <td>wyseo</td>\n",
       "      <td>Discharge.Discharge.MDT</td>\n",
       "      <td>discharge</td>\n",
       "      <td>wyseo-discharge</td>\n",
       "      <td>https://geoconnex.us/wyseo/gages/010266RS</td>\n",
       "      <td>Discharge.Discharge.MDT@010266RS</td>\n",
       "    </tr>\n",
       "    <tr>\n",
       "      <th>3</th>\n",
       "      <td>Discharge.Discharge.MDT.MDQ@010266RS</td>\n",
       "      <td>66 Reservoir Supply Ditch</td>\n",
       "      <td>All Locations.Division 1.District 02</td>\n",
       "      <td>10/1/2017 6:00</td>\n",
       "      <td>6/1/2022 6:00</td>\n",
       "      <td>NaN</td>\n",
       "      <td>-</td>\n",
       "      <td>010266RS</td>\n",
       "      <td>https://geoconnex.us/wyseo/gages/010266RS</td>\n",
       "      <td>Discharge.Discharge.MDT.MDQ</td>\n",
       "      <td>Discharge/Discharge.MDT.MDQ</td>\n",
       "      <td>https://seoflow.wyo.gov/Data/DataSet/Summary/Location/010266RS/DataSet/Discharge/Discharge.MDT.MDQ</td>\n",
       "      <td>wyseo</td>\n",
       "      <td>Discharge.Discharge.MDT.MDQ</td>\n",
       "      <td>discharge</td>\n",
       "      <td>wyseo-discharge</td>\n",
       "      <td>https://geoconnex.us/wyseo/gages/010266RS</td>\n",
       "      <td>Discharge.Discharge.MDT.MDQ@010266RS</td>\n",
       "    </tr>\n",
       "    <tr>\n",
       "      <th>4</th>\n",
       "      <td>Discharge.Discharge.MDT@0102BOUT</td>\n",
       "      <td>Goshen Reservoir Outlet</td>\n",
       "      <td>All Locations.Division 1.District 02</td>\n",
       "      <td>10/1/2017 6:00</td>\n",
       "      <td>8/28/2022 16:30</td>\n",
       "      <td>NaN</td>\n",
       "      <td>-</td>\n",
       "      <td>0102BOUT</td>\n",
       "      <td>https://geoconnex.us/wyseo/gages/0102BOUT</td>\n",
       "      <td>Discharge.Discharge.MDT</td>\n",
       "      <td>Discharge/Discharge.MDT</td>\n",
       "      <td>https://seoflow.wyo.gov/Data/DataSet/Summary/Location/0102BOUT/DataSet/Discharge/Discharge.MDT</td>\n",
       "      <td>wyseo</td>\n",
       "      <td>Discharge.Discharge.MDT</td>\n",
       "      <td>discharge</td>\n",
       "      <td>wyseo-discharge</td>\n",
       "      <td>https://geoconnex.us/wyseo/gages/0102BOUT</td>\n",
       "      <td>Discharge.Discharge.MDT@0102BOUT</td>\n",
       "    </tr>\n",
       "  </tbody>\n",
       "</table>\n",
       "</div>"
      ],
      "text/plain": [
       "                               Data_Set_Id  ...                                     name\n",
       "0  Discharge.Historical.Discharge@010266RS  ...  Discharge.Historical.Discharge@010266RS\n",
       "1             Discharge.Discharge@010266RS  ...             Discharge.Discharge@010266RS\n",
       "2         Discharge.Discharge.MDT@010266RS  ...         Discharge.Discharge.MDT@010266RS\n",
       "3     Discharge.Discharge.MDT.MDQ@010266RS  ...     Discharge.Discharge.MDT.MDQ@010266RS\n",
       "4         Discharge.Discharge.MDT@0102BOUT  ...         Discharge.Discharge.MDT@0102BOUT\n",
       "\n",
       "[5 rows x 18 columns]"
      ]
     },
     "execution_count": 52,
     "metadata": {},
     "output_type": "execute_result"
    }
   ],
   "source": [
    "df.head()"
   ]
  },
  {
   "cell_type": "code",
   "execution_count": 53,
   "metadata": {},
   "outputs": [
    {
     "name": "stdout",
     "output_type": "stream",
     "text": [
      "0    https://seoflow.wyo.gov/Data/DataSet/Summary/Location/010266RS/DataSet/Discharge/Historical.Discharge\n",
      "1               https://seoflow.wyo.gov/Data/DataSet/Summary/Location/010266RS/DataSet/Discharge/Discharge\n",
      "2           https://seoflow.wyo.gov/Data/DataSet/Summary/Location/010266RS/DataSet/Discharge/Discharge.MDT\n",
      "3       https://seoflow.wyo.gov/Data/DataSet/Summary/Location/010266RS/DataSet/Discharge/Discharge.MDT.MDQ\n",
      "4           https://seoflow.wyo.gov/Data/DataSet/Summary/Location/0102BOUT/DataSet/Discharge/Discharge.MDT\n",
      "Name: url, dtype: object\n"
     ]
    }
   ],
   "source": [
    "# Print the first five rows of the \"data_set_url\" column\n",
    "pd.options.display.max_colwidth = 300\n",
    "print(df[\"url\"].head())"
   ]
  },
  {
   "cell_type": "code",
   "execution_count": 54,
   "metadata": {},
   "outputs": [],
   "source": [
    "#Perform final field calculations on pandas DataFrame\n",
    "\n",
    "end_df = df[[\"about_uri\", \"url\", \"name\", \"provider_code\", \"parameter_id\", \"parameter_name\", \"parameter_group\"]]\n",
    "end_df.head()\n",
    "\n",
    "#Export and write to new CSV\n",
    "\n",
    "end_df.to_csv(\"C:\\\\Users\\\\ewiggans\\\\Desktop\\\\GeoConnexMap\\\\WyomingGage\\\\WY_download_table.csv\")"
   ]
  },
  {
   "cell_type": "code",
   "execution_count": 55,
   "metadata": {},
   "outputs": [
    {
     "name": "stdout",
     "output_type": "stream",
     "text": [
      "comid calculated\n"
     ]
    }
   ],
   "source": [
    "import json\n",
    "import requests\n",
    "from shapely.geometry import shape, Point\n",
    "\n",
    "def get_comid_intersect(geom):\n",
    "    # Convert the input geom to GeoJSON using Shapely\n",
    "    point = Point(geom)\n",
    "\n",
    "    # Convert the Point to GeoJSON\n",
    "    geom_geojson = shape(point).__geo_interface__\n",
    "\n",
    "    url = 'https://nhdpv2-census.internetofwater.app/collections/2020/items?filter-lang=cql-json'\n",
    "    filter_ = {\n",
    "        'intersects': [\n",
    "            {'property': 'shape'},\n",
    "            geom_geojson  # Use the Shapely-converted GeoJSON\n",
    "        ]\n",
    "    }\n",
    "    headers = {\n",
    "        'Content-Type': 'application/query-cql-json'\n",
    "    }\n",
    "    r = requests.post(url, headers=headers, json=filter_)\n",
    "    fc = r.json()\n",
    "    if 'features' in fc and len(fc['features']) > 0:\n",
    "        feature = fc['features'][0]\n",
    "        return feature['properties']['featureid']\n",
    "    else:\n",
    "        return None\n",
    "\n",
    "# Update Cursor\n",
    "with arcpy.da.UpdateCursor(WY_gage, [\"Shape\", \"comid\"]) as cursor:\n",
    "    for row in cursor:\n",
    "        geom = row[0]\n",
    "        comid = get_comid_intersect(geom)\n",
    "        if comid is not None:\n",
    "            print(comid, end='\\r', flush=True)\n",
    "            row[1] = comid\n",
    "            cursor.updateRow(row)\n",
    "\n",
    "# Complete\n",
    "print(\"comid calculated\")"
   ]
  },
  {
   "cell_type": "code",
   "execution_count": 56,
   "metadata": {},
   "outputs": [
    {
     "name": "stdout",
     "output_type": "stream",
     "text": [
      "Added 'comid_text' field and set its values equal to 'comid' as text.\n"
     ]
    }
   ],
   "source": [
    "# Read in the CSV file as a geodatabase table\n",
    "csv_table = r\"C:\\Users\\ewiggans\\Desktop\\GeoConnexMap\\WyomingGage\\nhdpv2_lookup.csv\"\n",
    "csv_table_name = \"NHDPV2_Lookup\"\n",
    "arcpy.TableToTable_conversion(csv_table, arcpy.env.workspace, csv_table_name)\n",
    "\n",
    "# Add a new field 'comid_text' to the CSV table with a data type of TEXT\n",
    "arcpy.AddField_management(csv_table_name, \"comid_text\", \"TEXT\")\n",
    "\n",
    "# Calculate the 'comid_text' field by copying the values from the 'comid' field\n",
    "expression = \"!comid!\"\n",
    "codeblock = \"\"\n",
    "arcpy.CalculateField_management(csv_table_name, \"comid_text\", expression, \"PYTHON3\", codeblock)\n",
    "\n",
    "print(\"Added 'comid_text' field and set its values equal to 'comid' as text.\")\n"
   ]
  },
  {
   "cell_type": "code",
   "execution_count": 57,
   "metadata": {},
   "outputs": [
    {
     "name": "stdout",
     "output_type": "stream",
     "text": [
      "complete\n"
     ]
    }
   ],
   "source": [
    "# Join the CSV table to the \"WyomingStreamGage\" feature class based on the \"comid\" field\n",
    "arcpy.AddJoin_management(WY_gage, \"comid\", csv_table_name, \"comid_text\", \"KEEP_COMMON\")\n",
    "\n",
    "# Calculate the \"mainstem_uri\" field to be equal to the \"uri\" field in the CSV table\n",
    "expression = \"!{}.uri!\".format(csv_table_name)\n",
    "arcpy.CalculateField_management(WY_gage, \"mainstem_uri\", expression, \"PYTHON3\")\n",
    "\n",
    "# Remove the join to the CSV table\n",
    "arcpy.RemoveJoin_management(WY_gage, csv_table_name)\n",
    "print(\"complete\")\n"
   ]
  },
  {
   "cell_type": "code",
   "execution_count": 58,
   "metadata": {},
   "outputs": [
    {
     "name": "stdout",
     "output_type": "stream",
     "text": [
      "Record with incorrect lat/long selected\n",
      "Bad record deleted\n"
     ]
    },
    {
     "data": {
      "text/html": [
       "<div class='gpresult'><h2>Messages</h2><div id='messages' data-messages='[\"Start Time: Thursday, October 26, 2023 2:14:46 PM\",\"Succeeded at Thursday, October 26, 2023 2:14:46 PM (Elapsed Time: 0.02 seconds)\"]' data-show='true'><div id = 'default' /></div></div>"
      ],
      "text/plain": [
       "<Result 'WyomingStreamGages'>"
      ]
     },
     "execution_count": 58,
     "metadata": {},
     "output_type": "execute_result"
    }
   ],
   "source": [
    "## Fix lat/long showing up in China\n",
    "arcpy.management.SelectLayerByAttribute(\n",
    "    in_layer_or_view=WY_gage,\n",
    "    selection_type=\"NEW_SELECTION\",\n",
    "    where_clause=\"Identifier = '0209SCLD'\",\n",
    "    invert_where_clause=None\n",
    ")\n",
    "print(\"Record with incorrect lat/long selected\")\n",
    "\n",
    "arcpy.management.DeleteRows(\n",
    "    in_rows=\"WyomingStreamGages\"\n",
    ")\n",
    "print(\"Bad record deleted\")\n",
    "\n",
    "arcpy.SelectLayerByAttribute_management(WY_gage, \"CLEAR_SELECTION\")\n"
   ]
  },
  {
   "cell_type": "code",
   "execution_count": 59,
   "metadata": {},
   "outputs": [
    {
     "name": "stdout",
     "output_type": "stream",
     "text": [
      "Exported WyomingStreamGages to C:\\Users\\ewiggans\\Desktop\\GeoConnexMap\\WyomingGage\\WY_gage_export.geojson in GeoJSON format.\n"
     ]
    }
   ],
   "source": [
    "# Define the output GeoJSON file path\n",
    "output_geojson_file = r\"C:\\Users\\ewiggans\\Desktop\\GeoConnexMap\\WyomingGage\\WY_gage_export.geojson\"\n",
    "\n",
    "# Export the feature class to GeoJSON\n",
    "arcpy.FeaturesToJSON_conversion(in_features = WY_gage, \n",
    "                                out_json_file = output_geojson_file,\n",
    "                                geoJSON = \"GEOJSON\")\n",
    "\n",
    "\n",
    "print(f\"Exported {WY_gage} to {output_geojson_file} in GeoJSON format.\")\n"
   ]
  },
  {
   "cell_type": "code",
   "execution_count": 67,
   "metadata": {},
   "outputs": [
    {
     "name": "stdout",
     "output_type": "stream",
     "text": [
      "Complete\n"
     ]
    }
   ],
   "source": [
    "import geopandas as gpd\n",
    "\n",
    "def group_data(gdf, gpkg_file, csv_file):\n",
    "    # Make mapping dictionary\n",
    "    mapping = {}\n",
    "    df = pd.read_csv(csv_file)\n",
    "    for index, row in df.iterrows():\n",
    "        location = row['about_uri']\n",
    "        data = row.drop(['about_uri'])\n",
    "        if location not in mapping:\n",
    "            mapping[location] = []\n",
    "        mapping[location].append(data.to_dict())\n",
    "    # Apply mapping\n",
    "    for index, row in gdf.iterrows():\n",
    "        location = row['uri']\n",
    "        if location in mapping:\n",
    "            gdf.at[index, 'data'] = \\\n",
    "                json.dumps(mapping[location])\n",
    "    gdf.to_file(gpkg_file, driver=\"GPKG\")\n",
    "\n",
    "gdf = gpd.read_file(r\"C:\\Users\\ewiggans\\Desktop\\GeoConnexMap\\WyomingGage\\WY_gage_export.geojson\")\n",
    "csv_file = r\"C:\\Users\\ewiggans\\Desktop\\GeoConnexMap\\WyomingGage\\WY_download_table.csv\"\n",
    "gpkg_file = r\"C:\\Users\\ewiggans\\Desktop\\GeoConnexMap\\WyomingGage\\wy_gages.gpkg\"\n",
    "group_data(gdf, gpkg_file, csv_file)\n",
    "print(\"Complete\")"
   ]
  },
  {
   "cell_type": "code",
   "execution_count": null,
   "metadata": {},
   "outputs": [],
   "source": []
  }
 ],
 "metadata": {
  "kernelspec": {
   "display_name": "ArcGISPro",
   "language": "Python",
   "name": "python3"
  },
  "language_info": {
   "file_extension": ".py",
   "name": "python",
   "version": "3"
  }
 },
 "nbformat": 4,
 "nbformat_minor": 2
}
