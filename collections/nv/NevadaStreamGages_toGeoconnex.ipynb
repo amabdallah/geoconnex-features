{
 "cells": [
  {
   "cell_type": "markdown",
   "metadata": {},
   "source": [
    "## Translate Nevada (NV) stream gage data into Geoconnex\n"
   ]
  },
  {
   "cell_type": "markdown",
   "metadata": {},
   "source": [
    "Sources are: https://data-ndwr.hub.arcgis.com/datasets/NDWR::surface-water-monitoring-sites/explore for the locations and for data https://data-ndwr.hub.arcgis.com/datasets/NDWR::surface-water-monitoring-measures/explore \n"
   ]
  },
  {
   "cell_type": "code",
   "execution_count": 23,
   "metadata": {},
   "outputs": [
    {
     "name": "stdout",
     "output_type": "stream",
     "text": [
      "Fields in the layer after addition: ['OBJECTID', 'Shape', 'AutoID', 'Site_Name', 'Status', 'Location_Name', 'Source_Description', 'Source_Name', 'Basin', 'app', 'Site_Type', 'Elev', 'Data_Source', 'Remarks', 'County', 'Lat_DD_NAD83', 'Lon_DD_NAD83', 'GlobalID', 'uri', 'name', 'id', 'provider_name', 'provider_id', 'provider_url', 'provider_code', 'mainstem_uri', 'comid']\n"
     ]
    }
   ],
   "source": [
    "import arcpy\n",
    "\n",
    "# Set the workspace environment\n",
    "arcpy.env.workspace = r\"C:\\Users\\ewiggans\\Desktop\\GeoconnexNPDES\\GeoconnexNPDES\\GeoconnexNPDES.gdb\"\n",
    "\n",
    "\n",
    "arcpy.conversion.ExportFeatures(\n",
    "    in_features=\"Monitoring_Sites_Surfacewater\",\n",
    "    out_features=r\"C:\\Users\\ewiggans\\Desktop\\GeoconnexNPDES\\GeoconnexNPDES\\GeoconnexNPDES.gdb\\NV_gages_final\",\n",
    "    where_clause=\"\",\n",
    "    use_field_alias_as_name=\"NOT_USE_ALIAS\",\n",
    "    field_mapping='AutoID \"AutoID\" true true false 4 Long 0 0,First,#,Monitoring_Sites_Surfacewater,AutoID,-1,-1;Site_Name \"Site_Name\" true true false 25 Text 0 0,First,#,Monitoring_Sites_Surfacewater,Site_Name,0,25;Status \"Status\" true true false 1 Text 0 0,First,#,Monitoring_Sites_Surfacewater,Status,0,1;Location_Name \"Location_Name\" true true false 50 Text 0 0,First,#,Monitoring_Sites_Surfacewater,Location_Name,0,50;Source_Description \"Source_Description\" true true false 50 Text 0 0,First,#,Monitoring_Sites_Surfacewater,Source_Description,0,50;Source_Name \"Source_Name\" true true false 50 Text 0 0,First,#,Monitoring_Sites_Surfacewater,Source_Name,0,50;Basin \"Basin\" true true false 4 Text 0 0,First,#,Monitoring_Sites_Surfacewater,Basin,0,4;app \"app\" true true false 50 Text 0 0,First,#,Monitoring_Sites_Surfacewater,app,0,50;Site_Type \"Site_Type\" true true false 50 Text 0 0,First,#,Monitoring_Sites_Surfacewater,Site_Type,0,50;Elev \"Elev\" true true false 4 Long 0 0,First,#,Monitoring_Sites_Surfacewater,Elev,-1,-1;Data_Source \"Data_Source\" true true false 50 Text 0 0,First,#,Monitoring_Sites_Surfacewater,Data_Source,0,50;Remarks \"Remarks\" true true false 1073741822 Text 0 0,First,#,Monitoring_Sites_Surfacewater,Remarks,0,1073741822;County \"County\" true true false 50 Text 0 0,First,#,Monitoring_Sites_Surfacewater,County,0,50;Lat_DD_NAD83 \"Lat_DD_NAD83\" true true false 8 Double 0 0,First,#,Monitoring_Sites_Surfacewater,Lat_DD_NAD83,-1,-1;Lon_DD_NAD83 \"Lon_DD_NAD83\" true true false 8 Double 0 0,First,#,Monitoring_Sites_Surfacewater,Lon_DD_NAD83,-1,-1;GlobalID \"GlobalID\" false false true 38 GlobalID 0 0,First,#,Monitoring_Sites_Surfacewater,GlobalID,-1,-1',\n",
    "    sort_field=None\n",
    ")\n",
    "\n",
    "\n",
    "# reassign variable name\n",
    "NV_gage = \"NV_gages_final\"\n",
    "\n",
    "# Define a list of field names and their types\n",
    "field_list = [\n",
    "    (\"uri\", \"TEXT\"),\n",
    "    (\"name\", \"TEXT\"),\n",
    "    (\"id\", \"TEXT\"),\n",
    "    (\"provider_name\", \"TEXT\"),\n",
    "    (\"provider_id\", \"TEXT\"),\n",
    "    (\"provider_url\", \"TEXT\"),\n",
    "    (\"provider_code\", \"TEXT\"),\n",
    "    (\"mainstem_uri\", \"TEXT\"),\n",
    "    (\"comid\", \"TEXT\")\n",
    "]\n",
    "\n",
    "# Add the new fields using a loop\n",
    "for field_name, field_type in field_list:\n",
    "    arcpy.AddField_management(NV_gage, field_name, field_type)\n",
    "\n",
    "# Confirm the field addition\n",
    "field_names = [field.name for field in arcpy.ListFields(NV_gage)]\n",
    "print(\"Fields in the layer after addition:\", field_names)"
   ]
  },
  {
   "cell_type": "code",
   "execution_count": 24,
   "metadata": {},
   "outputs": [
    {
     "name": "stdout",
     "output_type": "stream",
     "text": [
      "Removed USGS gages\n"
     ]
    }
   ],
   "source": [
    "# Remove USGS Gages by selecting them\n",
    "\n",
    "NV_gage = \"NV_gages_final\"\n",
    "\n",
    "arcpy.management.SelectLayerByAttribute(\n",
    "    in_layer_or_view=NV_gage,\n",
    "    selection_type=\"NEW_SELECTION\",\n",
    "    where_clause=\"Data_Source = 'USGS'\",\n",
    "    invert_where_clause=None\n",
    ")\n",
    "# Delete the selected rows\n",
    "arcpy.management.DeleteRows(NV_gage)\n",
    "\n",
    "# Clear the selection\n",
    "arcpy.management.SelectLayerByAttribute(\n",
    "    in_layer_or_view=NV_gage,\n",
    "    selection_type=\"CLEAR_SELECTION\"\n",
    ")\n",
    "\n",
    "print(\"Removed USGS gages\")"
   ]
  },
  {
   "cell_type": "code",
   "execution_count": 25,
   "metadata": {},
   "outputs": [
    {
     "name": "stdout",
     "output_type": "stream",
     "text": [
      "id and name fields populated\n"
     ]
    }
   ],
   "source": [
    "## Get unique ID, which comes from Site_Name\n",
    "\n",
    "# Create an update cursor to iterate through the rows\n",
    "with arcpy.da.UpdateCursor(NV_gage, ['Site_Name', 'id']) as cursor:\n",
    "    for row in cursor:\n",
    "        # Get the Site_Name value\n",
    "        site_name = row[0]\n",
    "\n",
    "        # Remove spaces and assign the result to the 'id' field\n",
    "        row[1] = site_name.replace(\" \", \"\")\n",
    "\n",
    "        # Update the row\n",
    "        cursor.updateRow(row)\n",
    "\n",
    "# Clean up the cursor\n",
    "del cursor\n",
    "\n",
    "# Set name = id\n",
    "# Define the expression for the field calculation\n",
    "expression = \"!id!\"  # Set the 'name' field equal to the 'id' field\n",
    "\n",
    "# Perform the field calculation\n",
    "arcpy.management.CalculateField(NV_gage, \"name\", expression, \"PYTHON3\")\n",
    "\n",
    "print(\"id and name fields populated\")"
   ]
  },
  {
   "cell_type": "code",
   "execution_count": 26,
   "metadata": {},
   "outputs": [
    {
     "name": "stdout",
     "output_type": "stream",
     "text": [
      "All values in the 'Identifier' field are unique.\n",
      "No spaces found in the 'Identifier' field.\n"
     ]
    }
   ],
   "source": [
    "# Confirm unique ID in identifier field\n",
    "# Field to check for uniqueness\n",
    "field_name = \"id\"\n",
    "\n",
    "# Use a set to keep track of unique values encountered in the field\n",
    "unique_values = set()\n",
    "\n",
    "# Initialize a counter to keep track of the total number of rows\n",
    "total_rows = 0\n",
    "\n",
    "# Initialize a flag to check for spaces\n",
    "has_spaces = False\n",
    "\n",
    "# Start a search cursor to iterate through the rows and check for unique values and spaces\n",
    "with arcpy.da.UpdateCursor(NV_gage, field_name) as cursor:\n",
    "    for row in cursor:\n",
    "        total_rows += 1\n",
    "        value = row[0]\n",
    "        if value in unique_values:\n",
    "            print(f\"Non-unique value found: {value}\")\n",
    "        else:\n",
    "            unique_values.add(value)\n",
    "\n",
    "        if \" \" in value:\n",
    "            has_spaces = True\n",
    "            # Replace spaces with \"-\"\n",
    "            row[0] = value.replace(\" \", \"-\")\n",
    "            cursor.updateRow(row)\n",
    "\n",
    "# Check if the number of unique values is the same as the total number of rows\n",
    "if len(unique_values) == total_rows:\n",
    "    print(\"All values in the 'Identifier' field are unique.\")\n",
    "else:\n",
    "    print(\"There are duplicate values in the 'Identifier' field.\")\n",
    "\n",
    "# Check if there are any spaces in the 'Identifier' field\n",
    "if has_spaces:\n",
    "    print(\"There were spaces in the 'Identifier' field. They have been replaced with '-'.\")\n",
    "else:\n",
    "    print(\"No spaces found in the 'Identifier' field.\")\n"
   ]
  },
  {
   "cell_type": "code",
   "execution_count": 27,
   "metadata": {},
   "outputs": [
    {
     "name": "stdout",
     "output_type": "stream",
     "text": [
      "Fields calculated\n"
     ]
    }
   ],
   "source": [
    "#Update Fields\n",
    "\n",
    "arcpy.CalculateField_management(NV_gage, \"provider_name\", \"'Nevada Division of Water Resources'\")\n",
    "arcpy.CalculateField_management(NV_gage, \"provider_url\", '\"https://data-ndwr.hub.arcgis.com/datasets/NDWR::surface-water-monitoring-sites/explore?location=39.027307%2C-116.979050%2C8.30\"', \"PYTHON3\")\n",
    "arcpy.CalculateField_management(NV_gage, \"provider_id\", '\"{}\"'.format('\"!id!\"'), \"PYTHON3\")\n",
    "arcpy.CalculateField_management(NV_gage, \"provider_code\", \"'ndwr'\")\n",
    "\n",
    "print(\"Fields calculated\")"
   ]
  },
  {
   "cell_type": "code",
   "execution_count": 28,
   "metadata": {},
   "outputs": [
    {
     "name": "stdout",
     "output_type": "stream",
     "text": [
      "uri calculated\n"
     ]
    }
   ],
   "source": [
    "#create url\n",
    "codeblock = \"\"\"\n",
    "def url_join(*parts: list) -> str:\n",
    "    return '/'.join([str(p).strip().strip('/') for p in parts])\n",
    "\"\"\"\n",
    "##geoconnex.us/ndwr/gages/id\n",
    "\n",
    "expression = \"\"\"url_join(\"https://geoconnex.us/ndwr/gages\", !id!)\"\"\"\n",
    "arcpy.management.CalculateField(NV_gage, \"uri\", expression, \"PYTHON3\", codeblock)\n",
    "print(\"uri calculated\")\n",
    "\n"
   ]
  },
  {
   "cell_type": "markdown",
   "metadata": {},
   "source": [
    "### CSV download table from  https://data-ndwr.hub.arcgis.com/datasets/NDWR::surface-water-monitoring-measures/explore"
   ]
  },
  {
   "cell_type": "code",
   "execution_count": 29,
   "metadata": {},
   "outputs": [
    {
     "name": "stdout",
     "output_type": "stream",
     "text": [
      "   OBJECTID  ...                                GlobalID\n",
      "0         1  ...  {31D54FCE-B33D-4F62-8456-9693F68DFB98}\n",
      "1         2  ...  {1C170EF2-9BC2-451B-B72A-B0CA765A124F}\n",
      "2         3  ...  {CD60F753-6DC9-44F7-8892-DBAD40699D02}\n",
      "3         4  ...  {67E1301B-EE8F-41FE-972F-246AF71BFB95}\n",
      "4         5  ...  {64F1F2D4-EA6B-44D6-8FAA-C3E82B4B1E1C}\n",
      "\n",
      "[5 rows x 8 columns]\n",
      "Index(['OBJECTID', 'Site_name', 'Discharge', 'Units', 'Measure_date', 'measured_by', 'Method', 'GlobalID'], dtype='object')\n"
     ]
    }
   ],
   "source": [
    "import pandas as pd\n",
    "\n",
    "# Path to the CSV file\n",
    "csv_file_path = r\"C:\\Users\\ewiggans\\Desktop\\GeoConnexMap\\NevadaGage\\Surface_Water_Monitoring_Sites_and_Measures.csv\"\n",
    "pd.set_option('display.width', 1000)\n",
    "\n",
    "# Read the CSV file into a pandas DataFrame\n",
    "df = pd.read_csv(csv_file_path)\n",
    "\n",
    "# Display the first few rows of the data frame to verify the data\n",
    "print(df.head())\n",
    "df.columns = df.columns.str.replace(' ', '_')\n",
    "print(df.columns)\n"
   ]
  },
  {
   "cell_type": "markdown",
   "metadata": {},
   "source": [
    "### Need to remove spaces in site name to match the unique ids from the station list. New field will be Site_name_con (concatenated)\n"
   ]
  },
  {
   "cell_type": "code",
   "execution_count": 76,
   "metadata": {},
   "outputs": [
    {
     "name": "stdout",
     "output_type": "stream",
     "text": [
      "        OBJECTID  ...         Site_name_con\n",
      "0              1  ...  028++N41+E28+17AADD1\n",
      "1              2  ...  037++N43+E54+10ADDC1\n",
      "2              3  ...  037++N43+E54+10ADDC1\n",
      "3              4  ...  037++N43+E54+10ADDC1\n",
      "4              5  ...  037++N43+E54+21ADCB1\n",
      "...          ...  ...                   ...\n",
      "100585    100586  ...  207++N07+E62+33BCCC1\n",
      "100586    100587  ...  207++N09+E61+03C+++1\n",
      "100587    100588  ...  207++N09+E61+03C+++1\n",
      "100588    100589  ...  209++S09+E62+04DDAB1\n",
      "100589    100590  ...  209++S09+E62+04DDAB1\n",
      "\n",
      "[100590 rows x 9 columns]\n"
     ]
    }
   ],
   "source": [
    "#Ensure 'Site_name' is a string (object) data type in the DataFrame\n",
    "df['Site_name'] = df['Site_name'].astype(str)\n",
    "\n",
    "# Create a new 'Site_name_con' column in the DataFrame by removing spaces\n",
    "df['Site_name_con'] = df['Site_name'].str.replace(\" \", \"+\")\n",
    "\n",
    "# Display the DataFrame to verify the new column\n",
    "print(df)"
   ]
  },
  {
   "cell_type": "code",
   "execution_count": 33,
   "metadata": {},
   "outputs": [
    {
     "name": "stdout",
     "output_type": "stream",
     "text": [
      "Complete\n"
     ]
    }
   ],
   "source": [
    "import pandas as pd\n",
    "\n",
    "# Perform the field calculations on the pandas DataFrame\n",
    "df[\"location_id\"] = df['Site_name'].str.replace(r\".*@\", \"\", regex=True)\n",
    "df[\"about_uri\"] = \"https://geoconnex.us/ndwr/gages/\" + df['Site_name'].apply(lambda s: s.replace(\" \", \"\"))\n",
    "df[\"data_set_type\"] = df[\"Site_name\"].str.replace(r\"@.*\", \"\", regex=True)\n",
    "df[\"data_set_path\"] = df[\"data_set_type\"].str.replace(\".\", \"/\", 1)\n",
    "\n",
    "\n",
    "#query for the Arcgis feature service\n",
    "def render_url(site_name):\n",
    "    url = \"\"\"https://arcgis.water.nv.gov/arcgis/rest/services/NDWR/Monitoring_Sites_Surface_Water/FeatureServer/0/query?where=Site_Name='{}'\"\"\"\n",
    "    site_name = site_name.replace(' ', '+')\n",
    "    return url.format(site_name)\n",
    "\n",
    "\n",
    "df[\"url\"] = df[\"Site_name\"].apply(render_url)\n",
    "df[\"provider_code\"] = \"ndwr\"\n",
    "df[\"parameter_group\"] = \"discharge\"\n",
    "#Parameter name should be the name of the variable as written by the data source, but common across its locations/stations/sites \n",
    "#in this case it does not have a variable in the data source but the column header is discharge, so it is understood\n",
    "df[\"parameter_name\"] = df[\"parameter_group\"]\n",
    "#Parameter id is org abbreviation-group \n",
    "df[\"parameter_id\"] = df[\"provider_code\"] + \"-\" + df[\"parameter_group\"]\n",
    "#df[\"about_uri\"] = df[\"about_url\"]\n",
    "df[\"name\"] = df[\"Site_name\"]\n",
    "\n",
    "print(\"Complete\")\n"
   ]
  },
  {
   "cell_type": "code",
   "execution_count": 34,
   "metadata": {},
   "outputs": [
    {
     "data": {
      "text/html": [
       "<div>\n",
       "<style scoped>\n",
       "    .dataframe tbody tr th:only-of-type {\n",
       "        vertical-align: middle;\n",
       "    }\n",
       "\n",
       "    .dataframe tbody tr th {\n",
       "        vertical-align: top;\n",
       "    }\n",
       "\n",
       "    .dataframe thead th {\n",
       "        text-align: right;\n",
       "    }\n",
       "</style>\n",
       "<table border=\"1\" class=\"dataframe\">\n",
       "  <thead>\n",
       "    <tr style=\"text-align: right;\">\n",
       "      <th></th>\n",
       "      <th>OBJECTID</th>\n",
       "      <th>Site_name</th>\n",
       "      <th>Discharge</th>\n",
       "      <th>Units</th>\n",
       "      <th>Measure_date</th>\n",
       "      <th>measured_by</th>\n",
       "      <th>Method</th>\n",
       "      <th>GlobalID</th>\n",
       "      <th>location_id</th>\n",
       "      <th>about_uri</th>\n",
       "      <th>data_set_type</th>\n",
       "      <th>data_set_path</th>\n",
       "      <th>url</th>\n",
       "      <th>provider_code</th>\n",
       "      <th>parameter_group</th>\n",
       "      <th>parameter_name</th>\n",
       "      <th>parameter_id</th>\n",
       "      <th>name</th>\n",
       "    </tr>\n",
       "  </thead>\n",
       "  <tbody>\n",
       "    <tr>\n",
       "      <th>0</th>\n",
       "      <td>1</td>\n",
       "      <td>028  N41 E28 17AADD1</td>\n",
       "      <td>0.91</td>\n",
       "      <td>CFS</td>\n",
       "      <td>1939/05/27 00:00:00+00</td>\n",
       "      <td>NaN</td>\n",
       "      <td>QSCMM</td>\n",
       "      <td>{31D54FCE-B33D-4F62-8456-9693F68DFB98}</td>\n",
       "      <td>028  N41 E28 17AADD1</td>\n",
       "      <td>https://geoconnex.us/ndwr/gages/028N41E2817AADD1</td>\n",
       "      <td>028  N41 E28 17AADD1</td>\n",
       "      <td>028  N41 E28 17AADD1</td>\n",
       "      <td>https://arcgis.water.nv.gov/arcgis/rest/services/NDWR/Monitoring_Sites_Surface_Water/FeatureServer/0/query?where=Site_Name='028++N41+E28+17AADD1'</td>\n",
       "      <td>ndwr</td>\n",
       "      <td>discharge</td>\n",
       "      <td>discharge</td>\n",
       "      <td>ndwr-discharge</td>\n",
       "      <td>028  N41 E28 17AADD1</td>\n",
       "    </tr>\n",
       "    <tr>\n",
       "      <th>1</th>\n",
       "      <td>2</td>\n",
       "      <td>037  N43 E54 10ADDC1</td>\n",
       "      <td>1.38</td>\n",
       "      <td>CFS</td>\n",
       "      <td>1997/06/23 00:00:00+00</td>\n",
       "      <td>NaN</td>\n",
       "      <td>QSCMM</td>\n",
       "      <td>{1C170EF2-9BC2-451B-B72A-B0CA765A124F}</td>\n",
       "      <td>037  N43 E54 10ADDC1</td>\n",
       "      <td>https://geoconnex.us/ndwr/gages/037N43E5410ADDC1</td>\n",
       "      <td>037  N43 E54 10ADDC1</td>\n",
       "      <td>037  N43 E54 10ADDC1</td>\n",
       "      <td>https://arcgis.water.nv.gov/arcgis/rest/services/NDWR/Monitoring_Sites_Surface_Water/FeatureServer/0/query?where=Site_Name='037++N43+E54+10ADDC1'</td>\n",
       "      <td>ndwr</td>\n",
       "      <td>discharge</td>\n",
       "      <td>discharge</td>\n",
       "      <td>ndwr-discharge</td>\n",
       "      <td>037  N43 E54 10ADDC1</td>\n",
       "    </tr>\n",
       "    <tr>\n",
       "      <th>2</th>\n",
       "      <td>3</td>\n",
       "      <td>037  N43 E54 10ADDC1</td>\n",
       "      <td>0.61</td>\n",
       "      <td>CFS</td>\n",
       "      <td>1997/07/22 00:00:00+00</td>\n",
       "      <td>NaN</td>\n",
       "      <td>QSCMM</td>\n",
       "      <td>{CD60F753-6DC9-44F7-8892-DBAD40699D02}</td>\n",
       "      <td>037  N43 E54 10ADDC1</td>\n",
       "      <td>https://geoconnex.us/ndwr/gages/037N43E5410ADDC1</td>\n",
       "      <td>037  N43 E54 10ADDC1</td>\n",
       "      <td>037  N43 E54 10ADDC1</td>\n",
       "      <td>https://arcgis.water.nv.gov/arcgis/rest/services/NDWR/Monitoring_Sites_Surface_Water/FeatureServer/0/query?where=Site_Name='037++N43+E54+10ADDC1'</td>\n",
       "      <td>ndwr</td>\n",
       "      <td>discharge</td>\n",
       "      <td>discharge</td>\n",
       "      <td>ndwr-discharge</td>\n",
       "      <td>037  N43 E54 10ADDC1</td>\n",
       "    </tr>\n",
       "    <tr>\n",
       "      <th>3</th>\n",
       "      <td>4</td>\n",
       "      <td>037  N43 E54 10ADDC1</td>\n",
       "      <td>0.43</td>\n",
       "      <td>CFS</td>\n",
       "      <td>1997/08/19 00:00:00+00</td>\n",
       "      <td>NaN</td>\n",
       "      <td>QSCMM</td>\n",
       "      <td>{67E1301B-EE8F-41FE-972F-246AF71BFB95}</td>\n",
       "      <td>037  N43 E54 10ADDC1</td>\n",
       "      <td>https://geoconnex.us/ndwr/gages/037N43E5410ADDC1</td>\n",
       "      <td>037  N43 E54 10ADDC1</td>\n",
       "      <td>037  N43 E54 10ADDC1</td>\n",
       "      <td>https://arcgis.water.nv.gov/arcgis/rest/services/NDWR/Monitoring_Sites_Surface_Water/FeatureServer/0/query?where=Site_Name='037++N43+E54+10ADDC1'</td>\n",
       "      <td>ndwr</td>\n",
       "      <td>discharge</td>\n",
       "      <td>discharge</td>\n",
       "      <td>ndwr-discharge</td>\n",
       "      <td>037  N43 E54 10ADDC1</td>\n",
       "    </tr>\n",
       "    <tr>\n",
       "      <th>4</th>\n",
       "      <td>5</td>\n",
       "      <td>037  N43 E54 21ADCB1</td>\n",
       "      <td>4.33</td>\n",
       "      <td>CFS</td>\n",
       "      <td>1997/05/16 00:00:00+00</td>\n",
       "      <td>NaN</td>\n",
       "      <td>QSCMM</td>\n",
       "      <td>{64F1F2D4-EA6B-44D6-8FAA-C3E82B4B1E1C}</td>\n",
       "      <td>037  N43 E54 21ADCB1</td>\n",
       "      <td>https://geoconnex.us/ndwr/gages/037N43E5421ADCB1</td>\n",
       "      <td>037  N43 E54 21ADCB1</td>\n",
       "      <td>037  N43 E54 21ADCB1</td>\n",
       "      <td>https://arcgis.water.nv.gov/arcgis/rest/services/NDWR/Monitoring_Sites_Surface_Water/FeatureServer/0/query?where=Site_Name='037++N43+E54+21ADCB1'</td>\n",
       "      <td>ndwr</td>\n",
       "      <td>discharge</td>\n",
       "      <td>discharge</td>\n",
       "      <td>ndwr-discharge</td>\n",
       "      <td>037  N43 E54 21ADCB1</td>\n",
       "    </tr>\n",
       "  </tbody>\n",
       "</table>\n",
       "</div>"
      ],
      "text/plain": [
       "   OBJECTID             Site_name  ...    parameter_id                  name\n",
       "0         1  028  N41 E28 17AADD1  ...  ndwr-discharge  028  N41 E28 17AADD1\n",
       "1         2  037  N43 E54 10ADDC1  ...  ndwr-discharge  037  N43 E54 10ADDC1\n",
       "2         3  037  N43 E54 10ADDC1  ...  ndwr-discharge  037  N43 E54 10ADDC1\n",
       "3         4  037  N43 E54 10ADDC1  ...  ndwr-discharge  037  N43 E54 10ADDC1\n",
       "4         5  037  N43 E54 21ADCB1  ...  ndwr-discharge  037  N43 E54 21ADCB1\n",
       "\n",
       "[5 rows x 18 columns]"
      ]
     },
     "execution_count": 34,
     "metadata": {},
     "output_type": "execute_result"
    }
   ],
   "source": [
    "df.head()"
   ]
  },
  {
   "cell_type": "code",
   "execution_count": 35,
   "metadata": {},
   "outputs": [
    {
     "name": "stdout",
     "output_type": "stream",
     "text": [
      "0    https://arcgis.water.nv.gov/arcgis/rest/services/NDWR/Monitoring_Sites_Surface_Water/FeatureServer/0/query?where=Site_Name='028++N41+E28+17AADD1'\n",
      "1    https://arcgis.water.nv.gov/arcgis/rest/services/NDWR/Monitoring_Sites_Surface_Water/FeatureServer/0/query?where=Site_Name='037++N43+E54+10ADDC1'\n",
      "2    https://arcgis.water.nv.gov/arcgis/rest/services/NDWR/Monitoring_Sites_Surface_Water/FeatureServer/0/query?where=Site_Name='037++N43+E54+10ADDC1'\n",
      "3    https://arcgis.water.nv.gov/arcgis/rest/services/NDWR/Monitoring_Sites_Surface_Water/FeatureServer/0/query?where=Site_Name='037++N43+E54+10ADDC1'\n",
      "4    https://arcgis.water.nv.gov/arcgis/rest/services/NDWR/Monitoring_Sites_Surface_Water/FeatureServer/0/query?where=Site_Name='037++N43+E54+21ADCB1'\n",
      "Name: url, dtype: object\n"
     ]
    }
   ],
   "source": [
    "# Print the first five rows of the \"data_set_url\" column\n",
    "pd.options.display.max_colwidth = 300\n",
    "print(df[\"url\"].head())"
   ]
  },
  {
   "cell_type": "code",
   "execution_count": 36,
   "metadata": {},
   "outputs": [],
   "source": [
    "#Perform final field calculations on pandas DataFrame\n",
    "\n",
    "end_df = df[[\"about_uri\", \"url\", \"name\", \"provider_code\", \"parameter_id\", \"parameter_name\", \"parameter_group\"]]\n",
    "end_df.head()\n",
    "end_df.to_csv(\"C:\\\\Users\\\\ewiggans\\\\Desktop\\\\GeoConnexMap\\\\NevadaGage\\\\NV_download_table.csv\")\n",
    "#Export and write to new CSV\n"
   ]
  },
  {
   "cell_type": "markdown",
   "metadata": {},
   "source": [
    "### Project data to WGS 84"
   ]
  },
  {
   "cell_type": "code",
   "execution_count": 37,
   "metadata": {},
   "outputs": [],
   "source": [
    "arcpy.management.Project(\n",
    "    in_dataset=\"NV_gages_final\",\n",
    "    out_dataset=r\"C:\\Users\\ewiggans\\Desktop\\GeoconnexNPDES\\GeoconnexNPDES\\GeoconnexNPDES.gdb\\NV_gages_final_Project\",\n",
    "    out_coor_system='GEOGCS[\"GCS_WGS_1984\",DATUM[\"D_WGS_1984\",SPHEROID[\"WGS_1984\",6378137.0,298.257223563]],PRIMEM[\"Greenwich\",0.0],UNIT[\"Degree\",0.0174532925199433]]',\n",
    "    transform_method=\"WGS_1984_(ITRF00)_To_NAD_1983\",\n",
    "    in_coor_system='PROJCS[\"NAD_1983_UTM_Zone_11N\",GEOGCS[\"GCS_North_American_1983\",DATUM[\"D_North_American_1983\",SPHEROID[\"GRS_1980\",6378137.0,298.257222101]],PRIMEM[\"Greenwich\",0.0],UNIT[\"Degree\",0.0174532925199433]],PROJECTION[\"Transverse_Mercator\"],PARAMETER[\"False_Easting\",500000.0],PARAMETER[\"False_Northing\",0.0],PARAMETER[\"Central_Meridian\",-117.0],PARAMETER[\"Scale_Factor\",0.9996],PARAMETER[\"Latitude_Of_Origin\",0.0],UNIT[\"Meter\",1.0]]',\n",
    "    preserve_shape=\"NO_PRESERVE_SHAPE\",\n",
    "    max_deviation=None,\n",
    "    vertical=\"NO_VERTICAL\"\n",
    ")\n",
    "\n",
    "NV_gage = \"NV_gages_final_Project\""
   ]
  },
  {
   "cell_type": "code",
   "execution_count": 38,
   "metadata": {},
   "outputs": [
    {
     "name": "stdout",
     "output_type": "stream",
     "text": [
      "comid calculated\n"
     ]
    }
   ],
   "source": [
    "import json\n",
    "import requests\n",
    "from shapely.geometry import shape, Point\n",
    "\n",
    "#####################Project to WGS 84\n",
    "\n",
    "\n",
    "def get_comid_intersect(geom):\n",
    "    # Convert the input geom to GeoJSON using Shapely\n",
    "    point = Point(geom)\n",
    "\n",
    "    # Convert the Point to GeoJSON\n",
    "    geom_geojson = shape(point).__geo_interface__\n",
    "\n",
    "    url = 'https://nhdpv2-census.internetofwater.app/collections/2020/items?filter-lang=cql-json'\n",
    "    filter_ = {\n",
    "        'intersects': [\n",
    "            {'property': 'shape'},\n",
    "            geom_geojson  # Use the Shapely-converted GeoJSON\n",
    "        ]\n",
    "    }\n",
    "    headers = {\n",
    "        'Content-Type': 'application/query-cql-json'\n",
    "    }\n",
    "    r = requests.post(url, headers=headers, json=filter_)\n",
    "    fc = r.json()\n",
    "    if 'features' in fc and len(fc['features']) > 0:\n",
    "        feature = fc['features'][0]\n",
    "        return feature['properties']['featureid']\n",
    "    else:\n",
    "        return None\n",
    "\n",
    "# Update Cursor\n",
    "with arcpy.da.UpdateCursor(NV_gage, [\"Shape\", \"comid\"]) as cursor:\n",
    "    for row in cursor:\n",
    "        geom = row[0]\n",
    "        comid = get_comid_intersect(geom)\n",
    "        if comid is not None:\n",
    "            print(comid, end='\\r', flush=True)\n",
    "            row[1] = comid\n",
    "            cursor.updateRow(row)\n",
    "\n",
    "\n",
    "print(\"comid calculated\")"
   ]
  },
  {
   "cell_type": "code",
   "execution_count": 39,
   "metadata": {},
   "outputs": [
    {
     "name": "stdout",
     "output_type": "stream",
     "text": [
      "Added 'comid_text' field and set its values equal to 'comid' as text.\n"
     ]
    }
   ],
   "source": [
    "# Read in the CSV file as a geodatabase table\n",
    "csv_table = r\"C:\\Users\\ewiggans\\Desktop\\GeoConnexMap\\NevadaGage\\nhdpv2_lookup.csv\"\n",
    "csv_table_name = \"NHDPV2_Lookup\"\n",
    "arcpy.TableToTable_conversion(csv_table, arcpy.env.workspace, csv_table_name)\n",
    "\n",
    "# Add a new field 'comid_text' to the CSV table with a data type of TEXT\n",
    "arcpy.AddField_management(csv_table_name, \"comid_text\", \"TEXT\")\n",
    "\n",
    "# Calculate the 'comid_text' field by copying the values from the 'comid' field\n",
    "expression = \"!comid!\"\n",
    "codeblock = \"\"\n",
    "arcpy.CalculateField_management(csv_table_name, \"comid_text\", expression, \"PYTHON3\", codeblock)\n",
    "\n",
    "print(\"Added 'comid_text' field and set its values equal to 'comid' as text.\")\n"
   ]
  },
  {
   "cell_type": "code",
   "execution_count": 40,
   "metadata": {},
   "outputs": [
    {
     "data": {
      "text/html": [
       "<div class='gpresult'><h2>Messages</h2><div id='messages' data-messages='[\"Start Time: Monday, October 30, 2023 11:47:55 AM\",\"Succeeded at Monday, October 30, 2023 11:47:55 AM (Elapsed Time: 0.24 seconds)\"]' data-show='true'><div id = 'default' /></div></div>"
      ],
      "text/plain": [
       "<Result 'NV_gages_final_Project'>"
      ]
     },
     "execution_count": 40,
     "metadata": {},
     "output_type": "execute_result"
    }
   ],
   "source": [
    "\n",
    "# Join the CSV table to the CO gage feature class based on the \"comid\" field\n",
    "arcpy.AddJoin_management(NV_gage, \"comid\", csv_table_name, \"comid_text\", \"KEEP_COMMON\")\n",
    "\n",
    "# Calculate the \"mainstem_uri\" field to be equal to the \"uri\" field in the CSV table\n",
    "expression = \"!{}.uri!\".format(csv_table_name)\n",
    "arcpy.CalculateField_management(NV_gage, \"mainstem_uri\", expression, \"PYTHON3\")\n",
    "\n",
    "# Remove the join to the CSV table\n",
    "arcpy.RemoveJoin_management(NV_gage, csv_table_name)\n"
   ]
  },
  {
   "cell_type": "code",
   "execution_count": 41,
   "metadata": {},
   "outputs": [
    {
     "name": "stdout",
     "output_type": "stream",
     "text": [
      "Exported NV_gages_final_Project to C:\\Users\\ewiggans\\Desktop\\GeoConnexMap\\NevadaoGage\\NV_gage_export.geojson in GeoJSON format.\n"
     ]
    }
   ],
   "source": [
    "# Define the output GeoJSON file path\n",
    "output_geojson_file = r\"C:\\Users\\ewiggans\\Desktop\\GeoConnexMap\\NevadaoGage\\NV_gage_export.geojson\"\n",
    "\n",
    "# Export the feature class to GeoJSON\n",
    "arcpy.conversion.FeaturesToJSON(\n",
    "    in_features=\"NV_gages_final_Project\",\n",
    "    out_json_file=r\"C:\\Users\\ewiggans\\Desktop\\GeoConnexMap\\NevadaGage\\NV_gages.geojson\",\n",
    "    format_json=\"NOT_FORMATTED\",\n",
    "    include_z_values=\"NO_Z_VALUES\",\n",
    "    include_m_values=\"NO_M_VALUES\",\n",
    "    geoJSON=\"GEOJSON\",\n",
    "    outputToWGS84=\"WGS84\",\n",
    "    use_field_alias=\"USE_FIELD_NAME\"\n",
    ")\n",
    "\n",
    "\n",
    "print(f\"Exported {NV_gage} to {output_geojson_file} in GeoJSON format.\")"
   ]
  },
  {
   "cell_type": "code",
   "execution_count": 43,
   "metadata": {},
   "outputs": [
    {
     "name": "stdout",
     "output_type": "stream",
     "text": [
      "Complete\n"
     ]
    }
   ],
   "source": [
    "import geopandas as gpd\n",
    "\n",
    "def group_data(gdf, gpkg_file, csv_file):\n",
    "    # Make mapping dictionary\n",
    "    # This is URI in csv\n",
    "    mapping = {}\n",
    "    df = pd.read_csv(csv_file)\n",
    "    for index, row in df.iterrows():\n",
    "        location = row['about_uri']\n",
    "        #print(location)\n",
    "        data = row.drop(['about_uri'])\n",
    "        if location not in mapping:\n",
    "            mapping[location] = []\n",
    "        mapping[location].append(data.to_dict())\n",
    "    #print(mapping)\n",
    "    \n",
    "    \n",
    "    # This is URI in spatial data \n",
    "    # Apply mapping\n",
    "    for index, row in gdf.iterrows():\n",
    "        location = row['uri']\n",
    "        #print(location)\n",
    "        if location in mapping:\n",
    "            gdf.at[index, 'data'] = \\\n",
    "                json.dumps(mapping[location])\n",
    "        #print(location)\n",
    "    gdf.to_file(gpkg_file, driver=\"GPKG\")\n",
    "\n",
    "gdf = gpd.read_file(r\"C:\\Users\\ewiggans\\Desktop\\GeoConnexMap\\NevadaGage\\NV_gages.geojson\")\n",
    "csv_file = r\"C:\\Users\\ewiggans\\Desktop\\GeoConnexMap\\NevadaGage\\NV_download_table.csv\"\n",
    "gpkg_file = r\"C:\\Users\\ewiggans\\Desktop\\GeoConnexMap\\NevadaGage\\NV_gages.gpkg\"\n",
    "group_data(gdf, gpkg_file, csv_file)\n",
    "print(\"Complete\")"
   ]
  },
  {
   "cell_type": "code",
   "execution_count": null,
   "metadata": {},
   "outputs": [],
   "source": []
  }
 ],
 "metadata": {
  "kernelspec": {
   "display_name": "ArcGISPro",
   "language": "Python",
   "name": "python3"
  },
  "language_info": {
   "file_extension": ".py",
   "name": "python",
   "version": "3"
  }
 },
 "nbformat": 4,
 "nbformat_minor": 2
}
